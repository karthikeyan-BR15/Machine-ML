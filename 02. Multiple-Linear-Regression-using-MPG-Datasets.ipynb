{
  "nbformat": 4,
  "nbformat_minor": 0,
  "metadata": {
    "colab": {
      "provenance": [],
      "authorship_tag": "ABX9TyPBJMUXReMk7aiGCSXwYE4I",
      "include_colab_link": true
    },
    "kernelspec": {
      "name": "python3",
      "display_name": "Python 3"
    },
    "language_info": {
      "name": "python"
    }
  },
  "cells": [
    {
      "cell_type": "markdown",
      "metadata": {
        "id": "view-in-github",
        "colab_type": "text"
      },
      "source": [
        "<a href=\"https://colab.research.google.com/github/Mohammedhashir17/Machine-Learning/blob/main/Multiple-Linear-Regression-using-MPG-Datasets.ipynb\" target=\"_parent\"><img src=\"https://colab.research.google.com/assets/colab-badge.svg\" alt=\"Open In Colab\"/></a>"
      ]
    },
    {
      "cell_type": "code",
      "execution_count": 2,
      "metadata": {
        "colab": {
          "base_uri": "https://localhost:8080/"
        },
        "id": "Vj1EFhXwxS0Q",
        "outputId": "9f2b8d31-29fc-4725-d3c0-d0e7df6c01a3"
      },
      "outputs": [
        {
          "output_type": "stream",
          "name": "stdout",
          "text": [
            "                            OLS Regression Results                            \n",
            "==============================================================================\n",
            "Dep. Variable:                    mpg   R-squared:                       0.706\n",
            "Model:                            OLS   Adj. R-squared:                  0.704\n",
            "Method:                 Least Squares   F-statistic:                     311.1\n",
            "Date:                Fri, 30 Aug 2024   Prob (F-statistic):          7.48e-103\n",
            "Time:                        05:37:13   Log-Likelihood:                -1121.0\n",
            "No. Observations:                 392   AIC:                             2250.\n",
            "Df Residuals:                     388   BIC:                             2266.\n",
            "Df Model:                           3                                         \n",
            "Covariance Type:            nonrobust                                         \n",
            "================================================================================\n",
            "                   coef    std err          t      P>|t|      [0.025      0.975]\n",
            "--------------------------------------------------------------------------------\n",
            "const           45.6783      2.409     18.965      0.000      40.943      50.414\n",
            "horsepower      -0.0475      0.016     -2.970      0.003      -0.079      -0.016\n",
            "weight          -0.0058      0.001    -10.024      0.000      -0.007      -0.005\n",
            "acceleration    -0.0021      0.123     -0.017      0.987      -0.245       0.240\n",
            "==============================================================================\n",
            "Omnibus:                       35.392   Durbin-Watson:                   0.858\n",
            "Prob(Omnibus):                  0.000   Jarque-Bera (JB):               46.071\n",
            "Skew:                           0.684   Prob(JB):                     9.91e-11\n",
            "Kurtosis:                       3.975   Cond. No.                     3.48e+04\n",
            "==============================================================================\n",
            "\n",
            "Notes:\n",
            "[1] Standard Errors assume that the covariance matrix of the errors is correctly specified.\n",
            "[2] The condition number is large, 3.48e+04. This might indicate that there are\n",
            "strong multicollinearity or other numerical problems.\n"
          ]
        }
      ],
      "source": [
        "import statsmodels.api as sm\n",
        "import pandas as pd\n",
        "\n",
        "import seaborn as sns\n",
        "\n",
        "# Load the Auto MPG dataset\n",
        "auto_mpg = sns.load_dataset('mpg').dropna()\n",
        "\n",
        "# Selecting relevant columns for the regression\n",
        "# Independent variables\n",
        "X = auto_mpg[['horsepower', 'weight', 'acceleration']]\n",
        "\n",
        "# Dependent variable\n",
        "Y = auto_mpg['mpg']  # miles per gallon, which is the fuel efficiency\n",
        "\n",
        "# Convert the DataFrame to numeric type (if necessary)\n",
        "X = X.apply(pd.to_numeric, errors='coerce')\n",
        "Y = pd.to_numeric(Y, errors='coerce')\n",
        "\n",
        "# Drop rows with missing values\n",
        "X = X.dropna()\n",
        "Y = Y.dropna()\n",
        "\n",
        "# Ensure the index matches after dropping rows\n",
        "X = X.loc[Y.index]\n",
        "\n",
        "# Adding a constant term\n",
        "X = sm.add_constant(X)\n",
        "\n",
        "# Fit the regression model\n",
        "model = sm.OLS(Y, X).fit()\n",
        "\n",
        "# Print the summary of the regression model\n",
        "print(model.summary())\n"
      ]
    }
  ]
}
